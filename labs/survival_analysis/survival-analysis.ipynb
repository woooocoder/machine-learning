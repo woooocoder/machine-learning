{
 "cells": [
  {
   "cell_type": "code",
   "execution_count": null,
   "metadata": {},
   "outputs": [],
   "source": [
    "# Kaplan-Meier estimator function\n",
    "def fn(durations, events): # => est\n",
    "    # Find unique event times and sort them\n",
    "    events = sorted(events)\n",
    "    \n",
    "    # Calculate all r_j and d_j\n",
    "        # r_j = { i : y_i >= d_j }\n",
    "        # q_j = { i: y_i == d_j && di = 1 }\n",
    "    # Return product of % survived @ d_j to get P(T > d_j)\n",
    "    product = 1\n",
    "    for j in durations:\n",
    "        product *= (r[j] - q[j]) / r[j]\n",
    "    return product"
   ]
  },
  {
   "cell_type": "code",
   "execution_count": null,
   "metadata": {},
   "outputs": [],
   "source": [
    "# Cox proportional hazard ratio model\n",
    "import pandas as pd\n",
    "def km(y, delta):\n",
    "    delta[i] = 0 if censored else 1\n",
    "    d = sorted(y[delta == 1])\n",
    "    K = len(d)\n",
    "    \n",
    "    product = 1\n",
    "    for j in range(1, K + 1):\n",
    "        r[j] = sum(y >= d[j])\n",
    "        q[j] = sum(y == d[j] and d == 1)\n",
    "        product *= (r[j] - q[j]) / r[j] \n",
    "    blocks = 1 - q / r\n",
    "    pr = K\n",
    "    for k in range(1, K + 1):\n",
    "        pr[k] = blocks[k] if k == 1 else blocks[k] * pr[k - 1]\n",
    "        \n",
    "    return new pd.DataFrame(time = d, pr = pr)  "
   ]
  }
 ],
 "metadata": {
  "language_info": {
   "name": "python"
  }
 },
 "nbformat": 4,
 "nbformat_minor": 2
}
