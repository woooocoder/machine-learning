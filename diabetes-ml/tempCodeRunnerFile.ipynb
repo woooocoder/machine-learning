X = Diabetes[['Glucose', 'BloodPressure', 'SkinThickness', 'Insulin', 'BMI', 'DiabetesPedigreeFunction', 'Age']].values
y = Diabetes['Outcome'].values